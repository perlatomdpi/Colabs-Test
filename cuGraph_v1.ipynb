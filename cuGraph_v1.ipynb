{
  "nbformat": 4,
  "nbformat_minor": 0,
  "metadata": {
    "colab": {
      "name": "cuGraph_v1.ipynb",
      "provenance": [],
      "collapsed_sections": [],
      "toc_visible": true,
      "authorship_tag": "ABX9TyPmcv/xF8dN6PhYVgx9yPR6",
      "include_colab_link": true
    },
    "kernelspec": {
      "name": "python3",
      "display_name": "Python 3"
    },
    "accelerator": "GPU"
  },
  "cells": [
    {
      "cell_type": "markdown",
      "metadata": {
        "id": "view-in-github",
        "colab_type": "text"
      },
      "source": [
        "<a href=\"https://colab.research.google.com/github/perlatomdpi/Colabs-Test/blob/main/cuGraph_v1.ipynb\" target=\"_parent\"><img src=\"https://colab.research.google.com/assets/colab-badge.svg\" alt=\"Open In Colab\"/></a>"
      ]
    },
    {
      "cell_type": "markdown",
      "metadata": {
        "id": "eBsFMQxJMX8L"
      },
      "source": [
        "# **Link Prediction project** <br>\n",
        "author: Andrea Perlato <br>\n",
        "date: October 2020 <br>\n",
        "\n",
        "tasks: <br>\n",
        "[]: journals: VTSR <br>\n",
        "[]: test the connectivity of th network <br>\n",
        "[]: identify the most influent or cited authors <br>\n",
        "[]: find different giant component for the 4 journals <br>\n",
        "[]: local link prediction <br>\n",
        "[]: global link prediction <br>\n",
        "[]: use networkx 1.10.0 & matplotlib 2.2.3 <br>"
      ]
    },
    {
      "cell_type": "markdown",
      "metadata": {
        "id": "7fDoZMWcjuO2"
      },
      "source": [
        "# Initialize project"
      ]
    },
    {
      "cell_type": "code",
      "metadata": {
        "id": "EGONoZGBhwka"
      },
      "source": [
        "#==============================================================================\n",
        "# CHECK GPU\n",
        "#==============================================================================\n",
        "# Runtime -> Change runtime type -> GPU \n",
        "# Has to be RAPIDS compatible: \n",
        "# If not terminate and restart session\n",
        "!nvidia-smi"
      ],
      "execution_count": null,
      "outputs": []
    },
    {
      "cell_type": "code",
      "metadata": {
        "id": "lCP0QRJDlaNW"
      },
      "source": [
        "#==============================================================================\n",
        "# INSTALL RAPIDS\n",
        "#==============================================================================\n",
        "!git clone https://github.com/rapidsai/rapidsai-csp-utils.git\n",
        "!bash rapidsai-csp-utils/colab/rapids-colab.sh stable\n",
        "\n",
        "import sys, os\n",
        "\n",
        "dist_package_index = sys.path.index('/usr/local/lib/python3.6/dist-packages')\n",
        "sys.path = sys.path[:dist_package_index] + ['/usr/local/lib/python3.6/site-packages'] + sys.path[dist_package_index:]\n",
        "sys.path\n",
        "exec(open('rapidsai-csp-utils/colab/update_modules.py').read(), globals())"
      ],
      "execution_count": null,
      "outputs": []
    },
    {
      "cell_type": "code",
      "metadata": {
        "id": "NYReG8aJP1EE"
      },
      "source": [
        "#==============================================================================\n",
        "# INSTALL SPECIFIC PACKAGE VERSION\n",
        "#==============================================================================\n",
        "!pip install networkx==1.10\n",
        "import networkx as nx\n",
        "from networkx.algorithms import bipartite\n",
        "from networkx.algorithms import community\n",
        "from networkx.readwrite import json_graph\n",
        "\n",
        "!pip install matplotlib==2.2.3\n",
        "import matplotlib.pyplot as plt"
      ],
      "execution_count": null,
      "outputs": []
    },
    {
      "cell_type": "code",
      "metadata": {
        "id": "KGFyhdtN6tob"
      },
      "source": [
        "#==============================================================================\n",
        "# LOAD PACKAGES\n",
        "#==============================================================================\n",
        "import numpy as np\n",
        "import pandas as pd\n",
        "from pandas import DataFrame\n",
        "from itertools import combinations\n",
        "from operator import itemgetter\n",
        "import seaborn as sns\n",
        "from collections import Counter\n",
        "import datetime\n",
        "import tqdm\n",
        "\n",
        "#==============================================================================\n",
        "# LOAD RAPIDS PACKAGES\n",
        "#==============================================================================\n",
        "import cudf\n",
        "import cuml\n",
        "import cugraph"
      ],
      "execution_count": 6,
      "outputs": []
    },
    {
      "cell_type": "code",
      "metadata": {
        "id": "O1L1cFpsVn2w"
      },
      "source": [
        "#==============================================================================\n",
        "# SHOW ALL INSTALLED PACKAGES\n",
        "#==============================================================================\n",
        "!pip freeze"
      ],
      "execution_count": null,
      "outputs": []
    },
    {
      "cell_type": "code",
      "metadata": {
        "id": "QBWkipwWYvqa",
        "outputId": "cf8b97fe-6c91-432b-9c65-ac3d780f6947",
        "colab": {
          "base_uri": "https://localhost:8080/",
          "height": 34
        }
      },
      "source": [
        "#==============================================================================\n",
        "# LOAD DATA\n",
        "#==============================================================================\n",
        "import csv\n",
        "from google.colab import drive\n",
        "drive.mount('/content/gdrive')\n",
        "df = pd.read_csv('/content/gdrive/My Drive/NETWORK on google colabs/andrea__authors_graph__4_journals.csv', sep=',')"
      ],
      "execution_count": 9,
      "outputs": [
        {
          "output_type": "stream",
          "text": [
            "Mounted at /content/gdrive\n"
          ],
          "name": "stdout"
        }
      ]
    }
  ]
}