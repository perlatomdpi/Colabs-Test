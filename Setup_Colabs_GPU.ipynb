{
  "nbformat": 4,
  "nbformat_minor": 0,
  "metadata": {
    "colab": {
      "name": "Setup-Colabs-GPU.ipynb",
      "provenance": [],
      "collapsed_sections": [],
      "authorship_tag": "ABX9TyNVk/TP1coKdehfmJUnoMah",
      "include_colab_link": true
    },
    "kernelspec": {
      "name": "python3",
      "display_name": "Python 3"
    }
  },
  "cells": [
    {
      "cell_type": "markdown",
      "metadata": {
        "id": "view-in-github",
        "colab_type": "text"
      },
      "source": [
        "<a href=\"https://colab.research.google.com/github/perlatomdpi/Colabs-Test/blob/main/Setup_Colabs_GPU.ipynb\" target=\"_parent\"><img src=\"https://colab.research.google.com/assets/colab-badge.svg\" alt=\"Open In Colab\"/></a>"
      ]
    },
    {
      "cell_type": "markdown",
      "metadata": {
        "id": "NlHAKt7Op29L"
      },
      "source": [
        "# Google Colabs Setup environment for GPU\n",
        "More details at: <br>\n",
        "https://medium.com/@oribarel/getting-the-most-out-of-your-google-colab-2b0585f82403"
      ]
    },
    {
      "cell_type": "markdown",
      "metadata": {
        "id": "T7JtEBhnqQWR"
      },
      "source": [
        "# Initialize project"
      ]
    },
    {
      "cell_type": "code",
      "metadata": {
        "id": "mjpCgfO1p2aY"
      },
      "source": [
        "#==============================================================================\n",
        "# CHECK GPU\n",
        "#==============================================================================\n",
        "# Runtime -> Change runtime type -> GPU \n",
        "# Has to be RAPIDS compatible: \n",
        "# If not terminate and restart session\n",
        "!nvidia-smi"
      ],
      "execution_count": null,
      "outputs": []
    },
    {
      "cell_type": "code",
      "metadata": {
        "id": "22Dp-B9eqazj"
      },
      "source": [
        "# Make sure Colab uses GPU\n",
        "# ' ' means CPU whereas '/device:G:0' means GPU\n",
        "import tensorflow as tf\n",
        "tf.test.gpu_device_name()"
      ],
      "execution_count": null,
      "outputs": []
    },
    {
      "cell_type": "code",
      "metadata": {
        "id": "iKEJmoofqfIO"
      },
      "source": [
        "# The GPU provided has 12G memory of our GPU is shared with other users\n",
        "# At that situation you won’t be able to train your model properly\n",
        "# To make sure that the current GPU memory utilization is 0\n",
        "!ln -sf /opt/bin/nvidia-smi /usr/bin/nvidia-smi\n",
        "!pip install gputil\n",
        "!pip install psutil\n",
        "!pip install humanize\n",
        "import psutil\n",
        "import humanize\n",
        "import os\n",
        "import GPUtil as GPU\n",
        "GPUs = GPU.getGPUs()\n",
        "# XXX: only one GPU on Colab and isn’t guaranteed\n",
        "gpu = GPUs[0]\n",
        "def printm():\n",
        " process = psutil.Process(os.getpid())\n",
        " print(\"Gen RAM Free: \" + humanize.naturalsize( psutil.virtual_memory().available ), \" | Proc size: \" + humanize.naturalsize( process.memory_info().rss))\n",
        " print(\"GPU RAM Free: {0:.0f}MB | Used: {1:.0f}MB | Util {2:3.0f}% | Total {3:.0f}MB\".format(gpu.memoryFree, gpu.memoryUsed, gpu.memoryUtil*100, gpu.memoryTotal))\n",
        "printm() "
      ],
      "execution_count": null,
      "outputs": []
    },
    {
      "cell_type": "code",
      "metadata": {
        "id": "6x0RE-N6qiWJ"
      },
      "source": [
        "# If this is not the case, and the utilization is greater than 0% try to kill your machine, using the code below\n",
        "# This might not work on your first attempt and you can try this multiple times\n",
        "!kill -9 -1"
      ],
      "execution_count": null,
      "outputs": []
    },
    {
      "cell_type": "code",
      "metadata": {
        "id": "BGmLrfeKqkWf"
      },
      "source": [
        "#==============================================================================\n",
        "# INSTALL RAPIDS\n",
        "#==============================================================================\n",
        "!git clone https://github.com/rapidsai/rapidsai-csp-utils.git\n",
        "!bash rapidsai-csp-utils/colab/rapids-colab.sh stable\n",
        "\n",
        "import sys, os\n",
        "\n",
        "dist_package_index = sys.path.index('/usr/local/lib/python3.6/dist-packages')\n",
        "sys.path = sys.path[:dist_package_index] + ['/usr/local/lib/python3.6/site-packages'] + sys.path[dist_package_index:]\n",
        "sys.path\n",
        "exec(open('rapidsai-csp-utils/colab/update_modules.py').read(), globals())"
      ],
      "execution_count": null,
      "outputs": []
    }
  ]
}